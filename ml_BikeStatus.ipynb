{
 "cells": [
  {
   "cell_type": "markdown",
   "metadata": {
    "slideshow": {
     "slide_type": "slide"
    }
   },
   "source": [
    "K-means clustering is an unsupervised learning algorithm which aims to partition n observations into k clusters in which each observation belongs to the cluster with the nearest centroid. The algorithm aims to minimize the squared euclidian distances between the observation and the centroid of cluster to which it belongs.\n",
    "\n",
    "In this algorithm, the data points are assigned to a cluster in such a manner that the sum of the squared distance between the data points and centroid would be minimum. It is to be understood that less variation within the clusters will lead to more similar data points within same cluster."
   ]
  },
  {
   "cell_type": "code",
   "execution_count": 1,
   "metadata": {
    "slideshow": {
     "slide_type": "subslide"
    }
   },
   "outputs": [],
   "source": [
    "\n",
    "%matplotlib inline\n",
    "import matplotlib.pyplot as plt\n",
    "from matplotlib import style\n",
    "style.use(\"ggplot\")\n",
    "import numpy as np\n",
    "from numpy.random import seed\n",
    "seed(42)\n",
    "import pandas as pd\n",
    "import os\n",
    "import datetime\n",
    "from datetime import datetime, date\n",
    "import sys\n",
    "import json\n",
    "import requests \n",
    "import psycopg2\n",
    "import sqlalchemy\n",
    "from sqlalchemy import create_engine\n",
    "import time \n",
    "\n",
    "\n",
    "\n",
    "import sklearn\n",
    "from sklearn.svm import SVC\n",
    "from sklearn.datasets import make_regression\n",
    "from sklearn.linear_model import LinearRegression\n",
    "from sklearn.metrics import mean_squared_error, r2_score\n",
    "from sklearn.model_selection import train_test_split\n",
    "from sklearn.linear_model import Lasso\n",
    "from sklearn.linear_model import Ridge\n",
    "from sklearn.linear_model import ElasticNet\n",
    "\n",
    "from mpl_toolkits.mplot3d import Axes3D\n",
    "import warnings\n",
    "warnings.simplefilter('ignore')\n",
    "from sklearn.preprocessing import StandardScaler\n",
    "import sklearn.datasets\n",
    "from sklearn.datasets import make_blobs\n",
    "from sklearn.linear_model import LogisticRegression\n",
    "from sklearn import tree\n",
    "from sklearn.ensemble import RandomForestClassifier\n",
    "from sklearn.datasets import load_iris\n",
    "from sklearn.neighbors import KNeighborsClassifier\n",
    "from sklearn.metrics import classification_report\n",
    "from sklearn.model_selection import GridSearchCV\n",
    "from sklearn.datasets import make_classification\n",
    "from sklearn.preprocessing import LabelEncoder , MinMaxScaler\n",
    "import tensorflow as tf\n",
    "from tensorflow.keras.utils import to_categorical\n",
    "from tensorflow.keras.models import Sequential\n",
    "from tensorflow.keras.layers import Dense\n",
    "from tensorflow.keras.models import load_model\n",
    "from sklearn.datasets.samples_generator import make_blobs\n",
    "from sklearn.cluster import KMeans\n",
    "\n",
    "# data, _ = make_blobs(n_samples=300, centers=4,cluster_std=0.60, random_state=0)\n"
   ]
  },
  {
   "cell_type": "markdown",
   "metadata": {
    "slideshow": {
     "slide_type": "slide"
    }
   },
   "source": [
    "## Read Data from the backend , Used Postgres"
   ]
  },
  {
   "cell_type": "code",
   "execution_count": 2,
   "metadata": {
    "slideshow": {
     "slide_type": "subslide"
    }
   },
   "outputs": [],
   "source": [
    "db_connection_string = \"postgres:jaigurudev@localhost:5432/FinalProject\"\n",
    "engine = create_engine(f'postgresql://{db_connection_string}')"
   ]
  },
  {
   "cell_type": "code",
   "execution_count": 3,
   "metadata": {
    "slideshow": {
     "slide_type": "subslide"
    }
   },
   "outputs": [
    {
     "data": {
      "text/plain": [
       "['bikes_nondups', 'bikes']"
      ]
     },
     "execution_count": 3,
     "metadata": {},
     "output_type": "execute_result"
    }
   ],
   "source": [
    "engine.table_names()"
   ]
  },
  {
   "cell_type": "code",
   "execution_count": 4,
   "metadata": {
    "slideshow": {
     "slide_type": "subslide"
    }
   },
   "outputs": [
    {
     "data": {
      "text/html": [
       "<div>\n",
       "<style scoped>\n",
       "    .dataframe tbody tr th:only-of-type {\n",
       "        vertical-align: middle;\n",
       "    }\n",
       "\n",
       "    .dataframe tbody tr th {\n",
       "        vertical-align: top;\n",
       "    }\n",
       "\n",
       "    .dataframe thead th {\n",
       "        text-align: right;\n",
       "    }\n",
       "</style>\n",
       "<table border=\"1\" class=\"dataframe\">\n",
       "  <thead>\n",
       "    <tr style=\"text-align: right;\">\n",
       "      <th></th>\n",
       "      <th>station_id</th>\n",
       "      <th>bikes_available</th>\n",
       "      <th>bikes_disabled</th>\n",
       "      <th>docks_available</th>\n",
       "      <th>docks_disabled</th>\n",
       "      <th>time_reported</th>\n",
       "    </tr>\n",
       "  </thead>\n",
       "  <tbody>\n",
       "    <tr>\n",
       "      <td>0</td>\n",
       "      <td>72</td>\n",
       "      <td>20</td>\n",
       "      <td>0</td>\n",
       "      <td>35</td>\n",
       "      <td>0</td>\n",
       "      <td>2020-08-04 23:13:12</td>\n",
       "    </tr>\n",
       "    <tr>\n",
       "      <td>1</td>\n",
       "      <td>79</td>\n",
       "      <td>23</td>\n",
       "      <td>1</td>\n",
       "      <td>9</td>\n",
       "      <td>0</td>\n",
       "      <td>2020-08-04 23:13:25</td>\n",
       "    </tr>\n",
       "    <tr>\n",
       "      <td>2</td>\n",
       "      <td>82</td>\n",
       "      <td>22</td>\n",
       "      <td>3</td>\n",
       "      <td>2</td>\n",
       "      <td>0</td>\n",
       "      <td>2020-08-04 22:32:07</td>\n",
       "    </tr>\n",
       "    <tr>\n",
       "      <td>3</td>\n",
       "      <td>83</td>\n",
       "      <td>44</td>\n",
       "      <td>0</td>\n",
       "      <td>18</td>\n",
       "      <td>0</td>\n",
       "      <td>2020-08-04 23:47:05</td>\n",
       "    </tr>\n",
       "    <tr>\n",
       "      <td>4</td>\n",
       "      <td>116</td>\n",
       "      <td>23</td>\n",
       "      <td>0</td>\n",
       "      <td>27</td>\n",
       "      <td>0</td>\n",
       "      <td>2020-08-04 22:54:06</td>\n",
       "    </tr>\n",
       "    <tr>\n",
       "      <td>...</td>\n",
       "      <td>...</td>\n",
       "      <td>...</td>\n",
       "      <td>...</td>\n",
       "      <td>...</td>\n",
       "      <td>...</td>\n",
       "      <td>...</td>\n",
       "    </tr>\n",
       "    <tr>\n",
       "      <td>455429</td>\n",
       "      <td>4079</td>\n",
       "      <td>0</td>\n",
       "      <td>0</td>\n",
       "      <td>0</td>\n",
       "      <td>0</td>\n",
       "      <td>1970-01-01 17:00:00</td>\n",
       "    </tr>\n",
       "    <tr>\n",
       "      <td>455430</td>\n",
       "      <td>4082</td>\n",
       "      <td>0</td>\n",
       "      <td>0</td>\n",
       "      <td>0</td>\n",
       "      <td>0</td>\n",
       "      <td>1970-01-01 17:00:00</td>\n",
       "    </tr>\n",
       "    <tr>\n",
       "      <td>455431</td>\n",
       "      <td>4104</td>\n",
       "      <td>0</td>\n",
       "      <td>0</td>\n",
       "      <td>0</td>\n",
       "      <td>0</td>\n",
       "      <td>1970-01-01 17:00:00</td>\n",
       "    </tr>\n",
       "    <tr>\n",
       "      <td>455432</td>\n",
       "      <td>4106</td>\n",
       "      <td>0</td>\n",
       "      <td>0</td>\n",
       "      <td>0</td>\n",
       "      <td>0</td>\n",
       "      <td>1970-01-01 17:00:00</td>\n",
       "    </tr>\n",
       "    <tr>\n",
       "      <td>455433</td>\n",
       "      <td>4109</td>\n",
       "      <td>0</td>\n",
       "      <td>0</td>\n",
       "      <td>0</td>\n",
       "      <td>0</td>\n",
       "      <td>1970-01-01 17:00:00</td>\n",
       "    </tr>\n",
       "  </tbody>\n",
       "</table>\n",
       "<p>455434 rows × 6 columns</p>\n",
       "</div>"
      ],
      "text/plain": [
       "        station_id  bikes_available  bikes_disabled  docks_available  \\\n",
       "0               72               20               0               35   \n",
       "1               79               23               1                9   \n",
       "2               82               22               3                2   \n",
       "3               83               44               0               18   \n",
       "4              116               23               0               27   \n",
       "...            ...              ...             ...              ...   \n",
       "455429        4079                0               0                0   \n",
       "455430        4082                0               0                0   \n",
       "455431        4104                0               0                0   \n",
       "455432        4106                0               0                0   \n",
       "455433        4109                0               0                0   \n",
       "\n",
       "        docks_disabled       time_reported  \n",
       "0                    0 2020-08-04 23:13:12  \n",
       "1                    0 2020-08-04 23:13:25  \n",
       "2                    0 2020-08-04 22:32:07  \n",
       "3                    0 2020-08-04 23:47:05  \n",
       "4                    0 2020-08-04 22:54:06  \n",
       "...                ...                 ...  \n",
       "455429               0 1970-01-01 17:00:00  \n",
       "455430               0 1970-01-01 17:00:00  \n",
       "455431               0 1970-01-01 17:00:00  \n",
       "455432               0 1970-01-01 17:00:00  \n",
       "455433               0 1970-01-01 17:00:00  \n",
       "\n",
       "[455434 rows x 6 columns]"
      ]
     },
     "execution_count": 4,
     "metadata": {},
     "output_type": "execute_result"
    }
   ],
   "source": [
    "pd.read_sql_query('select * from bikes', con=engine)"
   ]
  },
  {
   "cell_type": "code",
   "execution_count": 5,
   "metadata": {
    "slideshow": {
     "slide_type": "subslide"
    }
   },
   "outputs": [
    {
     "data": {
      "text/html": [
       "<div>\n",
       "<style scoped>\n",
       "    .dataframe tbody tr th:only-of-type {\n",
       "        vertical-align: middle;\n",
       "    }\n",
       "\n",
       "    .dataframe tbody tr th {\n",
       "        vertical-align: top;\n",
       "    }\n",
       "\n",
       "    .dataframe thead th {\n",
       "        text-align: right;\n",
       "    }\n",
       "</style>\n",
       "<table border=\"1\" class=\"dataframe\">\n",
       "  <thead>\n",
       "    <tr style=\"text-align: right;\">\n",
       "      <th></th>\n",
       "      <th>station_id</th>\n",
       "      <th>bikes_available</th>\n",
       "      <th>bikes_disabled</th>\n",
       "      <th>docks_available</th>\n",
       "      <th>docks_disabled</th>\n",
       "      <th>time_reported</th>\n",
       "    </tr>\n",
       "  </thead>\n",
       "  <tbody>\n",
       "    <tr>\n",
       "      <td>0</td>\n",
       "      <td>3456</td>\n",
       "      <td>11</td>\n",
       "      <td>0</td>\n",
       "      <td>11</td>\n",
       "      <td>0</td>\n",
       "      <td>2020-08-07 16:29:04</td>\n",
       "    </tr>\n",
       "    <tr>\n",
       "      <td>1</td>\n",
       "      <td>3733</td>\n",
       "      <td>7</td>\n",
       "      <td>1</td>\n",
       "      <td>38</td>\n",
       "      <td>0</td>\n",
       "      <td>2020-08-05 16:18:06</td>\n",
       "    </tr>\n",
       "    <tr>\n",
       "      <td>2</td>\n",
       "      <td>3123</td>\n",
       "      <td>24</td>\n",
       "      <td>0</td>\n",
       "      <td>3</td>\n",
       "      <td>0</td>\n",
       "      <td>2020-08-05 08:58:35</td>\n",
       "    </tr>\n",
       "    <tr>\n",
       "      <td>3</td>\n",
       "      <td>3525</td>\n",
       "      <td>17</td>\n",
       "      <td>1</td>\n",
       "      <td>3</td>\n",
       "      <td>0</td>\n",
       "      <td>2020-08-06 10:41:06</td>\n",
       "    </tr>\n",
       "    <tr>\n",
       "      <td>4</td>\n",
       "      <td>3318</td>\n",
       "      <td>9</td>\n",
       "      <td>3</td>\n",
       "      <td>27</td>\n",
       "      <td>0</td>\n",
       "      <td>2020-08-05 08:39:41</td>\n",
       "    </tr>\n",
       "    <tr>\n",
       "      <td>...</td>\n",
       "      <td>...</td>\n",
       "      <td>...</td>\n",
       "      <td>...</td>\n",
       "      <td>...</td>\n",
       "      <td>...</td>\n",
       "      <td>...</td>\n",
       "    </tr>\n",
       "    <tr>\n",
       "      <td>95</td>\n",
       "      <td>262</td>\n",
       "      <td>0</td>\n",
       "      <td>0</td>\n",
       "      <td>24</td>\n",
       "      <td>0</td>\n",
       "      <td>2020-08-07 13:01:49</td>\n",
       "    </tr>\n",
       "    <tr>\n",
       "      <td>96</td>\n",
       "      <td>319</td>\n",
       "      <td>1</td>\n",
       "      <td>1</td>\n",
       "      <td>31</td>\n",
       "      <td>0</td>\n",
       "      <td>2020-08-06 19:12:33</td>\n",
       "    </tr>\n",
       "    <tr>\n",
       "      <td>97</td>\n",
       "      <td>3772</td>\n",
       "      <td>7</td>\n",
       "      <td>0</td>\n",
       "      <td>12</td>\n",
       "      <td>0</td>\n",
       "      <td>2020-08-06 09:06:06</td>\n",
       "    </tr>\n",
       "    <tr>\n",
       "      <td>98</td>\n",
       "      <td>531</td>\n",
       "      <td>20</td>\n",
       "      <td>1</td>\n",
       "      <td>18</td>\n",
       "      <td>0</td>\n",
       "      <td>2020-08-07 00:06:58</td>\n",
       "    </tr>\n",
       "    <tr>\n",
       "      <td>99</td>\n",
       "      <td>3158</td>\n",
       "      <td>2</td>\n",
       "      <td>3</td>\n",
       "      <td>26</td>\n",
       "      <td>0</td>\n",
       "      <td>2020-08-07 12:28:26</td>\n",
       "    </tr>\n",
       "  </tbody>\n",
       "</table>\n",
       "<p>100 rows × 6 columns</p>\n",
       "</div>"
      ],
      "text/plain": [
       "    station_id  bikes_available  bikes_disabled  docks_available  \\\n",
       "0         3456               11               0               11   \n",
       "1         3733                7               1               38   \n",
       "2         3123               24               0                3   \n",
       "3         3525               17               1                3   \n",
       "4         3318                9               3               27   \n",
       "..         ...              ...             ...              ...   \n",
       "95         262                0               0               24   \n",
       "96         319                1               1               31   \n",
       "97        3772                7               0               12   \n",
       "98         531               20               1               18   \n",
       "99        3158                2               3               26   \n",
       "\n",
       "    docks_disabled       time_reported  \n",
       "0                0 2020-08-07 16:29:04  \n",
       "1                0 2020-08-05 16:18:06  \n",
       "2                0 2020-08-05 08:58:35  \n",
       "3                0 2020-08-06 10:41:06  \n",
       "4                0 2020-08-05 08:39:41  \n",
       "..             ...                 ...  \n",
       "95               0 2020-08-07 13:01:49  \n",
       "96               0 2020-08-06 19:12:33  \n",
       "97               0 2020-08-06 09:06:06  \n",
       "98               0 2020-08-07 00:06:58  \n",
       "99               0 2020-08-07 12:28:26  \n",
       "\n",
       "[100 rows x 6 columns]"
      ]
     },
     "execution_count": 5,
     "metadata": {},
     "output_type": "execute_result"
    }
   ],
   "source": [
    "# Read the csv file into a pandas DataFrame\n",
    "lsd = pd.read_sql_query('select * from bikes_nondups', con=engine).head(100)\n",
    "lsd"
   ]
  },
  {
   "cell_type": "code",
   "execution_count": 6,
   "metadata": {
    "slideshow": {
     "slide_type": "slide"
    }
   },
   "outputs": [
    {
     "data": {
      "text/html": [
       "<div>\n",
       "<style scoped>\n",
       "    .dataframe tbody tr th:only-of-type {\n",
       "        vertical-align: middle;\n",
       "    }\n",
       "\n",
       "    .dataframe tbody tr th {\n",
       "        vertical-align: top;\n",
       "    }\n",
       "\n",
       "    .dataframe thead th {\n",
       "        text-align: right;\n",
       "    }\n",
       "</style>\n",
       "<table border=\"1\" class=\"dataframe\">\n",
       "  <thead>\n",
       "    <tr style=\"text-align: right;\">\n",
       "      <th></th>\n",
       "      <th>station_id</th>\n",
       "      <th>bikes_available</th>\n",
       "      <th>bikes_disabled</th>\n",
       "      <th>docks_available</th>\n",
       "      <th>docks_disabled</th>\n",
       "      <th>time_reported</th>\n",
       "      <th>date_n_time</th>\n",
       "    </tr>\n",
       "  </thead>\n",
       "  <tbody>\n",
       "    <tr>\n",
       "      <td>0</td>\n",
       "      <td>3456</td>\n",
       "      <td>11</td>\n",
       "      <td>0</td>\n",
       "      <td>11</td>\n",
       "      <td>0</td>\n",
       "      <td>2020-08-07 16:29:04</td>\n",
       "      <td>2020-08-07 16:29:04</td>\n",
       "    </tr>\n",
       "    <tr>\n",
       "      <td>1</td>\n",
       "      <td>3733</td>\n",
       "      <td>7</td>\n",
       "      <td>1</td>\n",
       "      <td>38</td>\n",
       "      <td>0</td>\n",
       "      <td>2020-08-05 16:18:06</td>\n",
       "      <td>2020-08-05 16:18:06</td>\n",
       "    </tr>\n",
       "    <tr>\n",
       "      <td>2</td>\n",
       "      <td>3123</td>\n",
       "      <td>24</td>\n",
       "      <td>0</td>\n",
       "      <td>3</td>\n",
       "      <td>0</td>\n",
       "      <td>2020-08-05 08:58:35</td>\n",
       "      <td>2020-08-05 08:58:35</td>\n",
       "    </tr>\n",
       "    <tr>\n",
       "      <td>3</td>\n",
       "      <td>3525</td>\n",
       "      <td>17</td>\n",
       "      <td>1</td>\n",
       "      <td>3</td>\n",
       "      <td>0</td>\n",
       "      <td>2020-08-06 10:41:06</td>\n",
       "      <td>2020-08-06 10:41:06</td>\n",
       "    </tr>\n",
       "    <tr>\n",
       "      <td>4</td>\n",
       "      <td>3318</td>\n",
       "      <td>9</td>\n",
       "      <td>3</td>\n",
       "      <td>27</td>\n",
       "      <td>0</td>\n",
       "      <td>2020-08-05 08:39:41</td>\n",
       "      <td>2020-08-05 08:39:41</td>\n",
       "    </tr>\n",
       "    <tr>\n",
       "      <td>...</td>\n",
       "      <td>...</td>\n",
       "      <td>...</td>\n",
       "      <td>...</td>\n",
       "      <td>...</td>\n",
       "      <td>...</td>\n",
       "      <td>...</td>\n",
       "      <td>...</td>\n",
       "    </tr>\n",
       "    <tr>\n",
       "      <td>95</td>\n",
       "      <td>262</td>\n",
       "      <td>0</td>\n",
       "      <td>0</td>\n",
       "      <td>24</td>\n",
       "      <td>0</td>\n",
       "      <td>2020-08-07 13:01:49</td>\n",
       "      <td>2020-08-07 13:01:49</td>\n",
       "    </tr>\n",
       "    <tr>\n",
       "      <td>96</td>\n",
       "      <td>319</td>\n",
       "      <td>1</td>\n",
       "      <td>1</td>\n",
       "      <td>31</td>\n",
       "      <td>0</td>\n",
       "      <td>2020-08-06 19:12:33</td>\n",
       "      <td>2020-08-06 19:12:33</td>\n",
       "    </tr>\n",
       "    <tr>\n",
       "      <td>97</td>\n",
       "      <td>3772</td>\n",
       "      <td>7</td>\n",
       "      <td>0</td>\n",
       "      <td>12</td>\n",
       "      <td>0</td>\n",
       "      <td>2020-08-06 09:06:06</td>\n",
       "      <td>2020-08-06 09:06:06</td>\n",
       "    </tr>\n",
       "    <tr>\n",
       "      <td>98</td>\n",
       "      <td>531</td>\n",
       "      <td>20</td>\n",
       "      <td>1</td>\n",
       "      <td>18</td>\n",
       "      <td>0</td>\n",
       "      <td>2020-08-07 00:06:58</td>\n",
       "      <td>2020-08-07 00:06:58</td>\n",
       "    </tr>\n",
       "    <tr>\n",
       "      <td>99</td>\n",
       "      <td>3158</td>\n",
       "      <td>2</td>\n",
       "      <td>3</td>\n",
       "      <td>26</td>\n",
       "      <td>0</td>\n",
       "      <td>2020-08-07 12:28:26</td>\n",
       "      <td>2020-08-07 12:28:26</td>\n",
       "    </tr>\n",
       "  </tbody>\n",
       "</table>\n",
       "<p>100 rows × 7 columns</p>\n",
       "</div>"
      ],
      "text/plain": [
       "    station_id  bikes_available  bikes_disabled  docks_available  \\\n",
       "0         3456               11               0               11   \n",
       "1         3733                7               1               38   \n",
       "2         3123               24               0                3   \n",
       "3         3525               17               1                3   \n",
       "4         3318                9               3               27   \n",
       "..         ...              ...             ...              ...   \n",
       "95         262                0               0               24   \n",
       "96         319                1               1               31   \n",
       "97        3772                7               0               12   \n",
       "98         531               20               1               18   \n",
       "99        3158                2               3               26   \n",
       "\n",
       "    docks_disabled       time_reported         date_n_time  \n",
       "0                0 2020-08-07 16:29:04 2020-08-07 16:29:04  \n",
       "1                0 2020-08-05 16:18:06 2020-08-05 16:18:06  \n",
       "2                0 2020-08-05 08:58:35 2020-08-05 08:58:35  \n",
       "3                0 2020-08-06 10:41:06 2020-08-06 10:41:06  \n",
       "4                0 2020-08-05 08:39:41 2020-08-05 08:39:41  \n",
       "..             ...                 ...                 ...  \n",
       "95               0 2020-08-07 13:01:49 2020-08-07 13:01:49  \n",
       "96               0 2020-08-06 19:12:33 2020-08-06 19:12:33  \n",
       "97               0 2020-08-06 09:06:06 2020-08-06 09:06:06  \n",
       "98               0 2020-08-07 00:06:58 2020-08-07 00:06:58  \n",
       "99               0 2020-08-07 12:28:26 2020-08-07 12:28:26  \n",
       "\n",
       "[100 rows x 7 columns]"
      ]
     },
     "execution_count": 6,
     "metadata": {},
     "output_type": "execute_result"
    }
   ],
   "source": [
    "#convert datetime to integer\n",
    "lsd['date_n_time'] = pd.to_datetime(lsd['time_reported'])\n",
    "lsd\n"
   ]
  },
  {
   "cell_type": "code",
   "execution_count": 7,
   "metadata": {
    "slideshow": {
     "slide_type": "subslide"
    }
   },
   "outputs": [
    {
     "data": {
      "text/html": [
       "<div>\n",
       "<style scoped>\n",
       "    .dataframe tbody tr th:only-of-type {\n",
       "        vertical-align: middle;\n",
       "    }\n",
       "\n",
       "    .dataframe tbody tr th {\n",
       "        vertical-align: top;\n",
       "    }\n",
       "\n",
       "    .dataframe thead th {\n",
       "        text-align: right;\n",
       "    }\n",
       "</style>\n",
       "<table border=\"1\" class=\"dataframe\">\n",
       "  <thead>\n",
       "    <tr style=\"text-align: right;\">\n",
       "      <th></th>\n",
       "      <th>station_id</th>\n",
       "      <th>bikes_available</th>\n",
       "      <th>bikes_disabled</th>\n",
       "      <th>docks_available</th>\n",
       "      <th>docks_disabled</th>\n",
       "      <th>date_n_time</th>\n",
       "    </tr>\n",
       "  </thead>\n",
       "  <tbody>\n",
       "    <tr>\n",
       "      <td>0</td>\n",
       "      <td>3456</td>\n",
       "      <td>11</td>\n",
       "      <td>0</td>\n",
       "      <td>11</td>\n",
       "      <td>0</td>\n",
       "      <td>2020-08-07 16:29:04</td>\n",
       "    </tr>\n",
       "    <tr>\n",
       "      <td>1</td>\n",
       "      <td>3733</td>\n",
       "      <td>7</td>\n",
       "      <td>1</td>\n",
       "      <td>38</td>\n",
       "      <td>0</td>\n",
       "      <td>2020-08-05 16:18:06</td>\n",
       "    </tr>\n",
       "    <tr>\n",
       "      <td>2</td>\n",
       "      <td>3123</td>\n",
       "      <td>24</td>\n",
       "      <td>0</td>\n",
       "      <td>3</td>\n",
       "      <td>0</td>\n",
       "      <td>2020-08-05 08:58:35</td>\n",
       "    </tr>\n",
       "    <tr>\n",
       "      <td>3</td>\n",
       "      <td>3525</td>\n",
       "      <td>17</td>\n",
       "      <td>1</td>\n",
       "      <td>3</td>\n",
       "      <td>0</td>\n",
       "      <td>2020-08-06 10:41:06</td>\n",
       "    </tr>\n",
       "    <tr>\n",
       "      <td>4</td>\n",
       "      <td>3318</td>\n",
       "      <td>9</td>\n",
       "      <td>3</td>\n",
       "      <td>27</td>\n",
       "      <td>0</td>\n",
       "      <td>2020-08-05 08:39:41</td>\n",
       "    </tr>\n",
       "  </tbody>\n",
       "</table>\n",
       "</div>"
      ],
      "text/plain": [
       "   station_id  bikes_available  bikes_disabled  docks_available  \\\n",
       "0        3456               11               0               11   \n",
       "1        3733                7               1               38   \n",
       "2        3123               24               0                3   \n",
       "3        3525               17               1                3   \n",
       "4        3318                9               3               27   \n",
       "\n",
       "   docks_disabled         date_n_time  \n",
       "0               0 2020-08-07 16:29:04  \n",
       "1               0 2020-08-05 16:18:06  \n",
       "2               0 2020-08-05 08:58:35  \n",
       "3               0 2020-08-06 10:41:06  \n",
       "4               0 2020-08-05 08:39:41  "
      ]
     },
     "execution_count": 7,
     "metadata": {},
     "output_type": "execute_result"
    }
   ],
   "source": [
    "bike_df = lsd.drop(['time_reported'],axis =1 )\n",
    "\n",
    "bike_df.head()\n"
   ]
  },
  {
   "cell_type": "code",
   "execution_count": 8,
   "metadata": {
    "slideshow": {
     "slide_type": "subslide"
    }
   },
   "outputs": [],
   "source": [
    "def get_week(dt):\n",
    "    return dt.week\n",
    "bike_df['week'] = bike_df['date_n_time'].map(get_week)\n",
    "\n",
    "def get_dom(dt):\n",
    "    return dt.day\n",
    "bike_df['dom'] = bike_df['date_n_time'].map(get_dom)\n",
    "\n",
    "def get_weekday(dt):\n",
    "    return dt.weekday()\n",
    "\n",
    "bike_df['weekday'] = bike_df['date_n_time'].map(get_weekday)\n",
    "\n",
    "def get_hour(dt):\n",
    "    return dt.hour\n",
    "\n",
    "bike_df['hour'] = bike_df['date_n_time'].map(get_hour)"
   ]
  },
  {
   "cell_type": "markdown",
   "metadata": {
    "slideshow": {
     "slide_type": "slide"
    }
   },
   "source": [
    "## Finding clusters of maximum number of bike availability during a 24 hour Period"
   ]
  },
  {
   "cell_type": "code",
   "execution_count": 9,
   "metadata": {
    "slideshow": {
     "slide_type": "subslide"
    }
   },
   "outputs": [
    {
     "data": {
      "text/plain": [
       "<matplotlib.collections.PathCollection at 0x1feac9a7388>"
      ]
     },
     "execution_count": 9,
     "metadata": {},
     "output_type": "execute_result"
    },
    {
     "data": {
      "image/png": "[encoded data removed]",
      "text/plain": [
       "<Figure size 432x288 with 1 Axes>"
      ]
     },
     "metadata": {
      "needs_background": "light"
     },
     "output_type": "display_data"
    }
   ],
   "source": [
    "# Plot hours Vs. bikes_available \n",
    "# No discrete clusters\n",
    "\n",
    "plt.scatter(bike_df['hour'],bike_df['bikes_available'])"
   ]
  },
  {
   "cell_type": "code",
   "execution_count": 10,
   "metadata": {
    "slideshow": {
     "slide_type": "subslide"
    }
   },
   "outputs": [
    {
     "data": {
      "text/plain": [
       "KMeans(algorithm='auto', copy_x=True, init='k-means++', max_iter=300,\n",
       "       n_clusters=24, n_init=10, n_jobs=None, precompute_distances='auto',\n",
       "       random_state=None, tol=0.0001, verbose=0)"
      ]
     },
     "execution_count": 10,
     "metadata": {},
     "output_type": "execute_result"
    }
   ],
   "source": [
    "# Step 1 − First, we need to specify the number of clusters, K, need to be generated by this algorithm.\n",
    "# a ball park cluster of 24 , since its not straight forward\n",
    "# create a Kmeans Object \n",
    "\n",
    "km = KMeans(n_clusters = 24 )\n",
    "km"
   ]
  },
  {
   "cell_type": "code",
   "execution_count": 11,
   "metadata": {
    "slideshow": {
     "slide_type": "subslide"
    }
   },
   "outputs": [
    {
     "data": {
      "text/plain": [
       "array([ 0,  1,  2,  3,  4,  5,  6,  7,  8,  9, 10, 11, 12, 13, 14, 15, 16,\n",
       "       17, 18, 19, 20, 21, 22, 23])"
      ]
     },
     "execution_count": 11,
     "metadata": {},
     "output_type": "execute_result"
    }
   ],
   "source": [
    "# Step 2 - Fit and Predict \n",
    "# It ran a KMeans algorithm on hour and bikes_available and computed a cluster of 24 , and assigned cluster  numbers\n",
    "\n",
    "y_predicted = km.fit_predict(bike_df[['hour','bikes_available']])\n",
    "y_predicted\n",
    "np.unique(y_predicted)"
   ]
  },
  {
   "cell_type": "code",
   "execution_count": 12,
   "metadata": {
    "slideshow": {
     "slide_type": "subslide"
    }
   },
   "outputs": [
    {
     "data": {
      "text/html": [
       "<div>\n",
       "<style scoped>\n",
       "    .dataframe tbody tr th:only-of-type {\n",
       "        vertical-align: middle;\n",
       "    }\n",
       "\n",
       "    .dataframe tbody tr th {\n",
       "        vertical-align: top;\n",
       "    }\n",
       "\n",
       "    .dataframe thead th {\n",
       "        text-align: right;\n",
       "    }\n",
       "</style>\n",
       "<table border=\"1\" class=\"dataframe\">\n",
       "  <thead>\n",
       "    <tr style=\"text-align: right;\">\n",
       "      <th></th>\n",
       "      <th>station_id</th>\n",
       "      <th>bikes_available</th>\n",
       "      <th>bikes_disabled</th>\n",
       "      <th>docks_available</th>\n",
       "      <th>docks_disabled</th>\n",
       "      <th>date_n_time</th>\n",
       "      <th>week</th>\n",
       "      <th>dom</th>\n",
       "      <th>weekday</th>\n",
       "      <th>hour</th>\n",
       "      <th>cluster</th>\n",
       "    </tr>\n",
       "  </thead>\n",
       "  <tbody>\n",
       "    <tr>\n",
       "      <td>0</td>\n",
       "      <td>3456</td>\n",
       "      <td>11</td>\n",
       "      <td>0</td>\n",
       "      <td>11</td>\n",
       "      <td>0</td>\n",
       "      <td>2020-08-07 16:29:04</td>\n",
       "      <td>32</td>\n",
       "      <td>7</td>\n",
       "      <td>4</td>\n",
       "      <td>16</td>\n",
       "      <td>20</td>\n",
       "    </tr>\n",
       "    <tr>\n",
       "      <td>1</td>\n",
       "      <td>3733</td>\n",
       "      <td>7</td>\n",
       "      <td>1</td>\n",
       "      <td>38</td>\n",
       "      <td>0</td>\n",
       "      <td>2020-08-05 16:18:06</td>\n",
       "      <td>32</td>\n",
       "      <td>5</td>\n",
       "      <td>2</td>\n",
       "      <td>16</td>\n",
       "      <td>9</td>\n",
       "    </tr>\n",
       "    <tr>\n",
       "      <td>2</td>\n",
       "      <td>3123</td>\n",
       "      <td>24</td>\n",
       "      <td>0</td>\n",
       "      <td>3</td>\n",
       "      <td>0</td>\n",
       "      <td>2020-08-05 08:58:35</td>\n",
       "      <td>32</td>\n",
       "      <td>5</td>\n",
       "      <td>2</td>\n",
       "      <td>8</td>\n",
       "      <td>1</td>\n",
       "    </tr>\n",
       "    <tr>\n",
       "      <td>3</td>\n",
       "      <td>3525</td>\n",
       "      <td>17</td>\n",
       "      <td>1</td>\n",
       "      <td>3</td>\n",
       "      <td>0</td>\n",
       "      <td>2020-08-06 10:41:06</td>\n",
       "      <td>32</td>\n",
       "      <td>6</td>\n",
       "      <td>3</td>\n",
       "      <td>10</td>\n",
       "      <td>7</td>\n",
       "    </tr>\n",
       "    <tr>\n",
       "      <td>4</td>\n",
       "      <td>3318</td>\n",
       "      <td>9</td>\n",
       "      <td>3</td>\n",
       "      <td>27</td>\n",
       "      <td>0</td>\n",
       "      <td>2020-08-05 08:39:41</td>\n",
       "      <td>32</td>\n",
       "      <td>5</td>\n",
       "      <td>2</td>\n",
       "      <td>8</td>\n",
       "      <td>17</td>\n",
       "    </tr>\n",
       "  </tbody>\n",
       "</table>\n",
       "</div>"
      ],
      "text/plain": [
       "   station_id  bikes_available  bikes_disabled  docks_available  \\\n",
       "0        3456               11               0               11   \n",
       "1        3733                7               1               38   \n",
       "2        3123               24               0                3   \n",
       "3        3525               17               1                3   \n",
       "4        3318                9               3               27   \n",
       "\n",
       "   docks_disabled         date_n_time  week  dom  weekday  hour  cluster  \n",
       "0               0 2020-08-07 16:29:04    32    7        4    16       20  \n",
       "1               0 2020-08-05 16:18:06    32    5        2    16        9  \n",
       "2               0 2020-08-05 08:58:35    32    5        2     8        1  \n",
       "3               0 2020-08-06 10:41:06    32    6        3    10        7  \n",
       "4               0 2020-08-05 08:39:41    32    5        2     8       17  "
      ]
     },
     "execution_count": 12,
     "metadata": {},
     "output_type": "execute_result"
    }
   ],
   "source": [
    "bike_df['cluster'] = y_predicted\n",
    "bike_df.head()"
   ]
  },
  {
   "cell_type": "code",
   "execution_count": 13,
   "metadata": {
    "slideshow": {
     "slide_type": "subslide"
    }
   },
   "outputs": [],
   "source": [
    "# Visulization the clusters , writing it to seperate dataframes , and plot them into one scatter plot\n",
    "\n",
    "\n",
    "cluster_1 = bike_df[bike_df.cluster == 0]\n",
    "cluster_2 = bike_df[bike_df.cluster == 1]\n",
    "cluster_3 = bike_df[bike_df.cluster == 2]\n",
    "cluster_4 = bike_df[bike_df.cluster == 3]\n",
    "cluster_5 = bike_df[bike_df.cluster == 4]\n",
    "cluster_6 = bike_df[bike_df.cluster == 5]\n",
    "cluster_7 = bike_df[bike_df.cluster == 6]\n",
    "cluster_8 = bike_df[bike_df.cluster == 7]\n",
    "cluster_9 = bike_df[bike_df.cluster == 8]\n",
    "cluster_10 = bike_df[bike_df.cluster == 9]\n",
    "cluster_11 = bike_df[bike_df.cluster == 10]\n",
    "cluster_12 = bike_df[bike_df.cluster == 11]\n",
    "cluster_13 = bike_df[bike_df.cluster == 12]\n",
    "cluster_14 = bike_df[bike_df.cluster == 13]\n",
    "cluster_15 = bike_df[bike_df.cluster == 14]\n",
    "cluster_16 = bike_df[bike_df.cluster == 15]\n",
    "cluster_17 = bike_df[bike_df.cluster == 16]\n",
    "cluster_18 = bike_df[bike_df.cluster == 17]\n",
    "cluster_19 = bike_df[bike_df.cluster == 18]\n",
    "cluster_20 = bike_df[bike_df.cluster == 19]\n",
    "cluster_21 = bike_df[bike_df.cluster == 20]\n",
    "cluster_22 = bike_df[bike_df.cluster == 21]\n",
    "cluster_23 = bike_df[bike_df.cluster == 22]\n",
    "cluster_24 = bike_df[bike_df.cluster == 23]"
   ]
  },
  {
   "cell_type": "code",
   "execution_count": 14,
   "metadata": {
    "slideshow": {
     "slide_type": "subslide"
    }
   },
   "outputs": [
    {
     "name": "stderr",
     "output_type": "stream",
     "text": [
      "No handles with labels found to put in legend.\n"
     ]
    },
    {
     "data": {
      "text/plain": [
       "<matplotlib.legend.Legend at 0x1fea463bac8>"
      ]
     },
     "execution_count": 14,
     "metadata": {},
     "output_type": "execute_result"
    },
    {
     "data": {
      "image/png": "[encoded data removed]",
      "text/plain": [
       "<Figure size 432x288 with 1 Axes>"
      ]
     },
     "metadata": {
      "needs_background": "light"
     },
     "output_type": "display_data"
    }
   ],
   "source": [
    "plt.scatter(cluster_1.hour,cluster_1['bikes_available'],color = 'blue')\n",
    "plt.scatter(cluster_2.hour,cluster_2['bikes_available'],color = 'orange')\n",
    "plt.scatter(cluster_3.hour,cluster_3['bikes_available'],color = 'green')\n",
    "plt.scatter(cluster_4.hour,cluster_4['bikes_available'],color = 'red')\n",
    "plt.scatter(cluster_5.hour,cluster_5['bikes_available'],color = 'purple')\n",
    "plt.scatter(cluster_6.hour,cluster_6['bikes_available'],color = 'brown')\n",
    "plt.scatter(cluster_7.hour,cluster_7['bikes_available'],color = 'pink')\n",
    "plt.scatter(cluster_8.hour,cluster_8['bikes_available'],color = 'gray')\n",
    "plt.scatter(cluster_9.hour,cluster_9['bikes_available'],color = 'olive')\n",
    "plt.scatter(cluster_10.hour,cluster_10['bikes_available'],color = 'cyan')\n",
    "plt.scatter(cluster_11.hour,cluster_11['bikes_available'],color = 'orchid')\n",
    "plt.scatter(cluster_12.hour,cluster_12['bikes_available'],color = 'deepskyblue')\n",
    "plt.scatter(cluster_13.hour,cluster_13['bikes_available'],color = 'lawngreen')\n",
    "plt.scatter(cluster_14.hour,cluster_14['bikes_available'],color = 'lightcoral')\n",
    "plt.scatter(cluster_15.hour,cluster_15['bikes_available'],color = 'paleturquoise')\n",
    "plt.scatter(cluster_16.hour,cluster_16['bikes_available'],color = 'blueviolet')\n",
    "plt.scatter(cluster_17.hour,cluster_17['bikes_available'],color = 'mediumaquamarine')\n",
    "plt.scatter(cluster_18.hour,cluster_18['bikes_available'],color = 'slateblue')\n",
    "plt.scatter(cluster_19.hour,cluster_19['bikes_available'],color = 'fuchsia')\n",
    "plt.scatter(cluster_20.hour,cluster_20['bikes_available'],color = 'teal')\n",
    "plt.scatter(cluster_21.hour,cluster_21['bikes_available'],color = 'gold')\n",
    "plt.scatter(cluster_22.hour,cluster_22['bikes_available'],color = 'rosybrown')\n",
    "plt.scatter(cluster_23.hour,cluster_23['bikes_available'],color = 'dodgerblue')\n",
    "plt.scatter(cluster_24.hour,cluster_24['bikes_available'],color = 'lime')\n",
    "plt.xlabel('hour of the day')\n",
    "plt.ylabel('bikes_available')\n",
    "plt.legend()\n"
   ]
  },
  {
   "cell_type": "code",
   "execution_count": 15,
   "metadata": {
    "slideshow": {
     "slide_type": "subslide"
    }
   },
   "outputs": [],
   "source": [
    "# Since the X-axis is too narrow , we scale our data using the MinMax Scaler\n",
    "\n",
    "from sklearn.preprocessing import MinMaxScaler\n",
    "\n"
   ]
  },
  {
   "cell_type": "code",
   "execution_count": 16,
   "metadata": {
    "slideshow": {
     "slide_type": "subslide"
    }
   },
   "outputs": [
    {
     "data": {
      "text/html": [
       "<div>\n",
       "<style scoped>\n",
       "    .dataframe tbody tr th:only-of-type {\n",
       "        vertical-align: middle;\n",
       "    }\n",
       "\n",
       "    .dataframe tbody tr th {\n",
       "        vertical-align: top;\n",
       "    }\n",
       "\n",
       "    .dataframe thead th {\n",
       "        text-align: right;\n",
       "    }\n",
       "</style>\n",
       "<table border=\"1\" class=\"dataframe\">\n",
       "  <thead>\n",
       "    <tr style=\"text-align: right;\">\n",
       "      <th></th>\n",
       "      <th>station_id</th>\n",
       "      <th>bikes_available</th>\n",
       "      <th>bikes_disabled</th>\n",
       "      <th>docks_available</th>\n",
       "      <th>docks_disabled</th>\n",
       "      <th>date_n_time</th>\n",
       "      <th>week</th>\n",
       "      <th>dom</th>\n",
       "      <th>weekday</th>\n",
       "      <th>hour</th>\n",
       "      <th>cluster</th>\n",
       "    </tr>\n",
       "  </thead>\n",
       "  <tbody>\n",
       "    <tr>\n",
       "      <td>0</td>\n",
       "      <td>3456</td>\n",
       "      <td>0.192982</td>\n",
       "      <td>0</td>\n",
       "      <td>11</td>\n",
       "      <td>0</td>\n",
       "      <td>2020-08-07 16:29:04</td>\n",
       "      <td>32</td>\n",
       "      <td>7</td>\n",
       "      <td>4</td>\n",
       "      <td>0.727273</td>\n",
       "      <td>20</td>\n",
       "    </tr>\n",
       "    <tr>\n",
       "      <td>1</td>\n",
       "      <td>3733</td>\n",
       "      <td>0.122807</td>\n",
       "      <td>1</td>\n",
       "      <td>38</td>\n",
       "      <td>0</td>\n",
       "      <td>2020-08-05 16:18:06</td>\n",
       "      <td>32</td>\n",
       "      <td>5</td>\n",
       "      <td>2</td>\n",
       "      <td>0.727273</td>\n",
       "      <td>9</td>\n",
       "    </tr>\n",
       "    <tr>\n",
       "      <td>2</td>\n",
       "      <td>3123</td>\n",
       "      <td>0.421053</td>\n",
       "      <td>0</td>\n",
       "      <td>3</td>\n",
       "      <td>0</td>\n",
       "      <td>2020-08-05 08:58:35</td>\n",
       "      <td>32</td>\n",
       "      <td>5</td>\n",
       "      <td>2</td>\n",
       "      <td>0.363636</td>\n",
       "      <td>1</td>\n",
       "    </tr>\n",
       "    <tr>\n",
       "      <td>3</td>\n",
       "      <td>3525</td>\n",
       "      <td>0.298246</td>\n",
       "      <td>1</td>\n",
       "      <td>3</td>\n",
       "      <td>0</td>\n",
       "      <td>2020-08-06 10:41:06</td>\n",
       "      <td>32</td>\n",
       "      <td>6</td>\n",
       "      <td>3</td>\n",
       "      <td>0.454545</td>\n",
       "      <td>7</td>\n",
       "    </tr>\n",
       "    <tr>\n",
       "      <td>4</td>\n",
       "      <td>3318</td>\n",
       "      <td>0.157895</td>\n",
       "      <td>3</td>\n",
       "      <td>27</td>\n",
       "      <td>0</td>\n",
       "      <td>2020-08-05 08:39:41</td>\n",
       "      <td>32</td>\n",
       "      <td>5</td>\n",
       "      <td>2</td>\n",
       "      <td>0.363636</td>\n",
       "      <td>17</td>\n",
       "    </tr>\n",
       "    <tr>\n",
       "      <td>...</td>\n",
       "      <td>...</td>\n",
       "      <td>...</td>\n",
       "      <td>...</td>\n",
       "      <td>...</td>\n",
       "      <td>...</td>\n",
       "      <td>...</td>\n",
       "      <td>...</td>\n",
       "      <td>...</td>\n",
       "      <td>...</td>\n",
       "      <td>...</td>\n",
       "      <td>...</td>\n",
       "    </tr>\n",
       "    <tr>\n",
       "      <td>95</td>\n",
       "      <td>262</td>\n",
       "      <td>0.000000</td>\n",
       "      <td>0</td>\n",
       "      <td>24</td>\n",
       "      <td>0</td>\n",
       "      <td>2020-08-07 13:01:49</td>\n",
       "      <td>32</td>\n",
       "      <td>7</td>\n",
       "      <td>4</td>\n",
       "      <td>0.590909</td>\n",
       "      <td>18</td>\n",
       "    </tr>\n",
       "    <tr>\n",
       "      <td>96</td>\n",
       "      <td>319</td>\n",
       "      <td>0.017544</td>\n",
       "      <td>1</td>\n",
       "      <td>31</td>\n",
       "      <td>0</td>\n",
       "      <td>2020-08-06 19:12:33</td>\n",
       "      <td>32</td>\n",
       "      <td>6</td>\n",
       "      <td>3</td>\n",
       "      <td>0.863636</td>\n",
       "      <td>18</td>\n",
       "    </tr>\n",
       "    <tr>\n",
       "      <td>97</td>\n",
       "      <td>3772</td>\n",
       "      <td>0.122807</td>\n",
       "      <td>0</td>\n",
       "      <td>12</td>\n",
       "      <td>0</td>\n",
       "      <td>2020-08-06 09:06:06</td>\n",
       "      <td>32</td>\n",
       "      <td>6</td>\n",
       "      <td>3</td>\n",
       "      <td>0.409091</td>\n",
       "      <td>10</td>\n",
       "    </tr>\n",
       "    <tr>\n",
       "      <td>98</td>\n",
       "      <td>531</td>\n",
       "      <td>0.350877</td>\n",
       "      <td>1</td>\n",
       "      <td>18</td>\n",
       "      <td>0</td>\n",
       "      <td>2020-08-07 00:06:58</td>\n",
       "      <td>32</td>\n",
       "      <td>7</td>\n",
       "      <td>4</td>\n",
       "      <td>0.000000</td>\n",
       "      <td>14</td>\n",
       "    </tr>\n",
       "    <tr>\n",
       "      <td>99</td>\n",
       "      <td>3158</td>\n",
       "      <td>0.035088</td>\n",
       "      <td>3</td>\n",
       "      <td>26</td>\n",
       "      <td>0</td>\n",
       "      <td>2020-08-07 12:28:26</td>\n",
       "      <td>32</td>\n",
       "      <td>7</td>\n",
       "      <td>4</td>\n",
       "      <td>0.545455</td>\n",
       "      <td>0</td>\n",
       "    </tr>\n",
       "  </tbody>\n",
       "</table>\n",
       "<p>100 rows × 11 columns</p>\n",
       "</div>"
      ],
      "text/plain": [
       "    station_id  bikes_available  bikes_disabled  docks_available  \\\n",
       "0         3456         0.192982               0               11   \n",
       "1         3733         0.122807               1               38   \n",
       "2         3123         0.421053               0                3   \n",
       "3         3525         0.298246               1                3   \n",
       "4         3318         0.157895               3               27   \n",
       "..         ...              ...             ...              ...   \n",
       "95         262         0.000000               0               24   \n",
       "96         319         0.017544               1               31   \n",
       "97        3772         0.122807               0               12   \n",
       "98         531         0.350877               1               18   \n",
       "99        3158         0.035088               3               26   \n",
       "\n",
       "    docks_disabled         date_n_time  week  dom  weekday      hour  cluster  \n",
       "0                0 2020-08-07 16:29:04    32    7        4  0.727273       20  \n",
       "1                0 2020-08-05 16:18:06    32    5        2  0.727273        9  \n",
       "2                0 2020-08-05 08:58:35    32    5        2  0.363636        1  \n",
       "3                0 2020-08-06 10:41:06    32    6        3  0.454545        7  \n",
       "4                0 2020-08-05 08:39:41    32    5        2  0.363636       17  \n",
       "..             ...                 ...   ...  ...      ...       ...      ...  \n",
       "95               0 2020-08-07 13:01:49    32    7        4  0.590909       18  \n",
       "96               0 2020-08-06 19:12:33    32    6        3  0.863636       18  \n",
       "97               0 2020-08-06 09:06:06    32    6        3  0.409091       10  \n",
       "98               0 2020-08-07 00:06:58    32    7        4  0.000000       14  \n",
       "99               0 2020-08-07 12:28:26    32    7        4  0.545455        0  \n",
       "\n",
       "[100 rows x 11 columns]"
      ]
     },
     "execution_count": 16,
     "metadata": {},
     "output_type": "execute_result"
    }
   ],
   "source": [
    "\n",
    "# and now fit our dependent variable and Independent Variable\n",
    "\n",
    "scaler = MinMaxScaler()\n",
    "scaler.fit(bike_df[['bikes_available']])\n",
    "bike_df['bikes_available'] = scaler.transform(bike_df[['bikes_available']])\n",
    "\n",
    "\n",
    "scaler.fit(bike_df[['hour']])\n",
    "bike_df['hour'] = scaler.transform(bike_df[['hour']])\n",
    "bike_df\n",
    "                   "
   ]
  },
  {
   "cell_type": "code",
   "execution_count": 17,
   "metadata": {
    "slideshow": {
     "slide_type": "subslide"
    }
   },
   "outputs": [
    {
     "data": {
      "text/plain": [
       "array([ 3,  3,  4, 12,  0, 18,  3, 18, 18,  5,  9, 10, 18,  1,  0,  1, 19,\n",
       "        3, 14,  3,  4, 19, 12,  5,  0,  6, 13, 11,  1, 10,  8, 23, 10,  6,\n",
       "        8, 18, 22, 12,  4, 11, 10, 12, 12,  6,  5,  6, 23, 14, 14, 10, 11,\n",
       "        3,  8,  1, 11, 15, 16, 23, 18, 20, 16, 13, 20, 20,  6, 11,  0, 14,\n",
       "       12, 12,  5,  4, 17,  6, 21,  1,  8,  7, 12,  2, 11,  4, 15,  0,  2,\n",
       "        1, 10,  1, 19, 18,  0,  8, 12, 18, 23,  6, 15, 23,  9,  6])"
      ]
     },
     "execution_count": 17,
     "metadata": {},
     "output_type": "execute_result"
    }
   ],
   "source": [
    "# Step 1 − First, we need to specify the number of clusters, K, need to be generated by this algorithm.\n",
    "# Fit and Predict \n",
    "km = KMeans(n_clusters = 24)\n",
    "y_predicted = km.fit_predict(bike_df[['hour','bikes_available']])\n",
    "y_predicted"
   ]
  },
  {
   "cell_type": "code",
   "execution_count": 18,
   "metadata": {
    "slideshow": {
     "slide_type": "subslide"
    }
   },
   "outputs": [
    {
     "data": {
      "text/html": [
       "<div>\n",
       "<style scoped>\n",
       "    .dataframe tbody tr th:only-of-type {\n",
       "        vertical-align: middle;\n",
       "    }\n",
       "\n",
       "    .dataframe tbody tr th {\n",
       "        vertical-align: top;\n",
       "    }\n",
       "\n",
       "    .dataframe thead th {\n",
       "        text-align: right;\n",
       "    }\n",
       "</style>\n",
       "<table border=\"1\" class=\"dataframe\">\n",
       "  <thead>\n",
       "    <tr style=\"text-align: right;\">\n",
       "      <th></th>\n",
       "      <th>station_id</th>\n",
       "      <th>bikes_available</th>\n",
       "      <th>bikes_disabled</th>\n",
       "      <th>docks_available</th>\n",
       "      <th>docks_disabled</th>\n",
       "      <th>date_n_time</th>\n",
       "      <th>week</th>\n",
       "      <th>dom</th>\n",
       "      <th>weekday</th>\n",
       "      <th>hour</th>\n",
       "      <th>cluster</th>\n",
       "    </tr>\n",
       "  </thead>\n",
       "  <tbody>\n",
       "    <tr>\n",
       "      <td>0</td>\n",
       "      <td>3456</td>\n",
       "      <td>0.192982</td>\n",
       "      <td>0</td>\n",
       "      <td>11</td>\n",
       "      <td>0</td>\n",
       "      <td>2020-08-07 16:29:04</td>\n",
       "      <td>32</td>\n",
       "      <td>7</td>\n",
       "      <td>4</td>\n",
       "      <td>0.727273</td>\n",
       "      <td>3</td>\n",
       "    </tr>\n",
       "    <tr>\n",
       "      <td>1</td>\n",
       "      <td>3733</td>\n",
       "      <td>0.122807</td>\n",
       "      <td>1</td>\n",
       "      <td>38</td>\n",
       "      <td>0</td>\n",
       "      <td>2020-08-05 16:18:06</td>\n",
       "      <td>32</td>\n",
       "      <td>5</td>\n",
       "      <td>2</td>\n",
       "      <td>0.727273</td>\n",
       "      <td>3</td>\n",
       "    </tr>\n",
       "    <tr>\n",
       "      <td>2</td>\n",
       "      <td>3123</td>\n",
       "      <td>0.421053</td>\n",
       "      <td>0</td>\n",
       "      <td>3</td>\n",
       "      <td>0</td>\n",
       "      <td>2020-08-05 08:58:35</td>\n",
       "      <td>32</td>\n",
       "      <td>5</td>\n",
       "      <td>2</td>\n",
       "      <td>0.363636</td>\n",
       "      <td>4</td>\n",
       "    </tr>\n",
       "    <tr>\n",
       "      <td>3</td>\n",
       "      <td>3525</td>\n",
       "      <td>0.298246</td>\n",
       "      <td>1</td>\n",
       "      <td>3</td>\n",
       "      <td>0</td>\n",
       "      <td>2020-08-06 10:41:06</td>\n",
       "      <td>32</td>\n",
       "      <td>6</td>\n",
       "      <td>3</td>\n",
       "      <td>0.454545</td>\n",
       "      <td>12</td>\n",
       "    </tr>\n",
       "    <tr>\n",
       "      <td>4</td>\n",
       "      <td>3318</td>\n",
       "      <td>0.157895</td>\n",
       "      <td>3</td>\n",
       "      <td>27</td>\n",
       "      <td>0</td>\n",
       "      <td>2020-08-05 08:39:41</td>\n",
       "      <td>32</td>\n",
       "      <td>5</td>\n",
       "      <td>2</td>\n",
       "      <td>0.363636</td>\n",
       "      <td>0</td>\n",
       "    </tr>\n",
       "    <tr>\n",
       "      <td>...</td>\n",
       "      <td>...</td>\n",
       "      <td>...</td>\n",
       "      <td>...</td>\n",
       "      <td>...</td>\n",
       "      <td>...</td>\n",
       "      <td>...</td>\n",
       "      <td>...</td>\n",
       "      <td>...</td>\n",
       "      <td>...</td>\n",
       "      <td>...</td>\n",
       "      <td>...</td>\n",
       "    </tr>\n",
       "    <tr>\n",
       "      <td>95</td>\n",
       "      <td>262</td>\n",
       "      <td>0.000000</td>\n",
       "      <td>0</td>\n",
       "      <td>24</td>\n",
       "      <td>0</td>\n",
       "      <td>2020-08-07 13:01:49</td>\n",
       "      <td>32</td>\n",
       "      <td>7</td>\n",
       "      <td>4</td>\n",
       "      <td>0.590909</td>\n",
       "      <td>6</td>\n",
       "    </tr>\n",
       "    <tr>\n",
       "      <td>96</td>\n",
       "      <td>319</td>\n",
       "      <td>0.017544</td>\n",
       "      <td>1</td>\n",
       "      <td>31</td>\n",
       "      <td>0</td>\n",
       "      <td>2020-08-06 19:12:33</td>\n",
       "      <td>32</td>\n",
       "      <td>6</td>\n",
       "      <td>3</td>\n",
       "      <td>0.863636</td>\n",
       "      <td>15</td>\n",
       "    </tr>\n",
       "    <tr>\n",
       "      <td>97</td>\n",
       "      <td>3772</td>\n",
       "      <td>0.122807</td>\n",
       "      <td>0</td>\n",
       "      <td>12</td>\n",
       "      <td>0</td>\n",
       "      <td>2020-08-06 09:06:06</td>\n",
       "      <td>32</td>\n",
       "      <td>6</td>\n",
       "      <td>3</td>\n",
       "      <td>0.409091</td>\n",
       "      <td>23</td>\n",
       "    </tr>\n",
       "    <tr>\n",
       "      <td>98</td>\n",
       "      <td>531</td>\n",
       "      <td>0.350877</td>\n",
       "      <td>1</td>\n",
       "      <td>18</td>\n",
       "      <td>0</td>\n",
       "      <td>2020-08-07 00:06:58</td>\n",
       "      <td>32</td>\n",
       "      <td>7</td>\n",
       "      <td>4</td>\n",
       "      <td>0.000000</td>\n",
       "      <td>9</td>\n",
       "    </tr>\n",
       "    <tr>\n",
       "      <td>99</td>\n",
       "      <td>3158</td>\n",
       "      <td>0.035088</td>\n",
       "      <td>3</td>\n",
       "      <td>26</td>\n",
       "      <td>0</td>\n",
       "      <td>2020-08-07 12:28:26</td>\n",
       "      <td>32</td>\n",
       "      <td>7</td>\n",
       "      <td>4</td>\n",
       "      <td>0.545455</td>\n",
       "      <td>6</td>\n",
       "    </tr>\n",
       "  </tbody>\n",
       "</table>\n",
       "<p>100 rows × 11 columns</p>\n",
       "</div>"
      ],
      "text/plain": [
       "    station_id  bikes_available  bikes_disabled  docks_available  \\\n",
       "0         3456         0.192982               0               11   \n",
       "1         3733         0.122807               1               38   \n",
       "2         3123         0.421053               0                3   \n",
       "3         3525         0.298246               1                3   \n",
       "4         3318         0.157895               3               27   \n",
       "..         ...              ...             ...              ...   \n",
       "95         262         0.000000               0               24   \n",
       "96         319         0.017544               1               31   \n",
       "97        3772         0.122807               0               12   \n",
       "98         531         0.350877               1               18   \n",
       "99        3158         0.035088               3               26   \n",
       "\n",
       "    docks_disabled         date_n_time  week  dom  weekday      hour  cluster  \n",
       "0                0 2020-08-07 16:29:04    32    7        4  0.727273        3  \n",
       "1                0 2020-08-05 16:18:06    32    5        2  0.727273        3  \n",
       "2                0 2020-08-05 08:58:35    32    5        2  0.363636        4  \n",
       "3                0 2020-08-06 10:41:06    32    6        3  0.454545       12  \n",
       "4                0 2020-08-05 08:39:41    32    5        2  0.363636        0  \n",
       "..             ...                 ...   ...  ...      ...       ...      ...  \n",
       "95               0 2020-08-07 13:01:49    32    7        4  0.590909        6  \n",
       "96               0 2020-08-06 19:12:33    32    6        3  0.863636       15  \n",
       "97               0 2020-08-06 09:06:06    32    6        3  0.409091       23  \n",
       "98               0 2020-08-07 00:06:58    32    7        4  0.000000        9  \n",
       "99               0 2020-08-07 12:28:26    32    7        4  0.545455        6  \n",
       "\n",
       "[100 rows x 11 columns]"
      ]
     },
     "execution_count": 18,
     "metadata": {},
     "output_type": "execute_result"
    }
   ],
   "source": [
    "# add clusters as a Dataframe column\n",
    "bike_df['cluster'] = y_predicted\n",
    "bike_df"
   ]
  },
  {
   "cell_type": "code",
   "execution_count": 19,
   "metadata": {
    "slideshow": {
     "slide_type": "subslide"
    }
   },
   "outputs": [
    {
     "data": {
      "text/plain": [
       "array([[0.37878788, 0.19883041],\n",
       "       [0.83116883, 0.27318296],\n",
       "       [0.38636364, 0.87719298],\n",
       "       [0.71212121, 0.14035088],\n",
       "       [0.38181818, 0.38947368],\n",
       "       [0.65909091, 0.43859649],\n",
       "       [0.50568182, 0.02192982],\n",
       "       [0.90909091, 1.        ],\n",
       "       [0.40909091, 0.63508772],\n",
       "       [0.06818182, 0.35964912],\n",
       "       [0.86363636, 0.40643275],\n",
       "       [0.26515152, 0.0380117 ],\n",
       "       [0.46464646, 0.28070175],\n",
       "       [0.18181818, 0.74561404],\n",
       "       [0.51136364, 0.14912281],\n",
       "       [0.92424242, 0.06432749],\n",
       "       [0.18181818, 0.46491228],\n",
       "       [0.04545455, 0.03508772],\n",
       "       [0.65909091, 0.23684211],\n",
       "       [0.68181818, 0.01169591],\n",
       "       [0.24242424, 0.14035088],\n",
       "       [1.        , 0.57894737],\n",
       "       [0.81818182, 0.59649123],\n",
       "       [0.41818182, 0.10526316]])"
      ]
     },
     "execution_count": 19,
     "metadata": {},
     "output_type": "execute_result"
    }
   ],
   "source": [
    "# Step 2 :  Next, randomly select K data points and assign each data point to a cluster. In simple words, classify the data based on the number of data points\n",
    "# Step 3 − Now it will compute the cluster centroids.\n",
    "\n",
    "\n",
    "km.cluster_centers_"
   ]
  },
  {
   "cell_type": "code",
   "execution_count": 20,
   "metadata": {
    "slideshow": {
     "slide_type": "subslide"
    }
   },
   "outputs": [],
   "source": [
    "cluster_1 = bike_df[bike_df.cluster == 0]\n",
    "cluster_2 = bike_df[bike_df.cluster == 1]\n",
    "cluster_3 = bike_df[bike_df.cluster == 2]\n",
    "cluster_4 = bike_df[bike_df.cluster == 3]\n",
    "cluster_5 = bike_df[bike_df.cluster == 4]\n",
    "cluster_6 = bike_df[bike_df.cluster == 5]\n",
    "cluster_7 = bike_df[bike_df.cluster == 6]\n",
    "cluster_8 = bike_df[bike_df.cluster == 7]\n",
    "cluster_9 = bike_df[bike_df.cluster == 8]\n",
    "cluster_10 = bike_df[bike_df.cluster == 9]\n",
    "cluster_11 = bike_df[bike_df.cluster == 10]\n",
    "cluster_12 = bike_df[bike_df.cluster == 11]\n",
    "cluster_13 = bike_df[bike_df.cluster == 12]\n",
    "cluster_14 = bike_df[bike_df.cluster == 13]\n",
    "cluster_15 = bike_df[bike_df.cluster == 14]\n",
    "cluster_16 = bike_df[bike_df.cluster == 15]\n",
    "cluster_17 = bike_df[bike_df.cluster == 16]\n",
    "cluster_18 = bike_df[bike_df.cluster == 17]\n",
    "cluster_19 = bike_df[bike_df.cluster == 18]\n",
    "cluster_20 = bike_df[bike_df.cluster == 19]\n",
    "cluster_21 = bike_df[bike_df.cluster == 20]\n",
    "cluster_22 = bike_df[bike_df.cluster == 21]\n",
    "cluster_23 = bike_df[bike_df.cluster == 22]\n",
    "cluster_24 = bike_df[bike_df.cluster == 23]\n"
   ]
  },
  {
   "cell_type": "code",
   "execution_count": 21,
   "metadata": {
    "slideshow": {
     "slide_type": "subslide"
    }
   },
   "outputs": [
    {
     "data": {
      "text/plain": [
       "<matplotlib.legend.Legend at 0x1fea471c248>"
      ]
     },
     "execution_count": 21,
     "metadata": {},
     "output_type": "execute_result"
    },
    {
     "data": {
      "image/png": "[encoded data removed]",
      "text/plain": [
       "<Figure size 432x288 with 1 Axes>"
      ]
     },
     "metadata": {
      "needs_background": "light"
     },
     "output_type": "display_data"
    }
   ],
   "source": [
    "plt.scatter(cluster_1.hour,cluster_1['bikes_available'],color = 'blue')\n",
    "plt.scatter(cluster_2.hour,cluster_2['bikes_available'],color = 'orange')\n",
    "plt.scatter(cluster_3.hour,cluster_3['bikes_available'],color = 'green')\n",
    "plt.scatter(cluster_4.hour,cluster_4['bikes_available'],color = 'red')\n",
    "plt.scatter(cluster_5.hour,cluster_5['bikes_available'],color = 'purple')\n",
    "plt.scatter(cluster_6.hour,cluster_6['bikes_available'],color = 'brown')\n",
    "plt.scatter(cluster_7.hour,cluster_7['bikes_available'],color = 'pink')\n",
    "plt.scatter(cluster_8.hour,cluster_8['bikes_available'],color = 'gray')\n",
    "plt.scatter(cluster_9.hour,cluster_9['bikes_available'],color = 'olive')\n",
    "plt.scatter(cluster_10.hour,cluster_10['bikes_available'],color = 'cyan')\n",
    "plt.scatter(cluster_11.hour,cluster_11['bikes_available'],color = 'orchid')\n",
    "plt.scatter(cluster_12.hour,cluster_12['bikes_available'],color = 'deepskyblue')\n",
    "plt.scatter(cluster_13.hour,cluster_13['bikes_available'],color = 'lawngreen')\n",
    "plt.scatter(cluster_14.hour,cluster_14['bikes_available'],color = 'lightcoral')\n",
    "plt.scatter(cluster_15.hour,cluster_15['bikes_available'],color = 'paleturquoise')\n",
    "plt.scatter(cluster_16.hour,cluster_16['bikes_available'],color = 'blueviolet')\n",
    "plt.scatter(cluster_17.hour,cluster_17['bikes_available'],color = 'mediumaquamarine')\n",
    "plt.scatter(cluster_18.hour,cluster_18['bikes_available'],color = 'slateblue')\n",
    "plt.scatter(cluster_19.hour,cluster_19['bikes_available'],color = 'fuchsia')\n",
    "plt.scatter(cluster_20.hour,cluster_20['bikes_available'],color = 'teal')\n",
    "plt.scatter(cluster_21.hour,cluster_21['bikes_available'],color = 'gold')\n",
    "plt.scatter(cluster_22.hour,cluster_22['bikes_available'],color = 'rosybrown')\n",
    "plt.scatter(cluster_23.hour,cluster_23['bikes_available'],color = 'dodgerblue')\n",
    "plt.scatter(cluster_24.hour,cluster_24['bikes_available'],color = 'lime')\n",
    "plt.xlabel('hour of the day')\n",
    "plt.ylabel('bikes_available')\n",
    "plt.scatter(km.cluster_centers_[:,0],km.cluster_centers_[:,1],color = 'black',marker = '*',label = 'centroid')\n",
    "plt.legend()"
   ]
  },
  {
   "cell_type": "markdown",
   "metadata": {},
   "source": [
    " Next, keep iterating the following until we find optimal centroid which is the assignment of data points to the clusters that are not changing any more\n",
    "\n",
    " First, the sum of squared distance between data points and centroids would be computed.\n",
    "\n",
    " Now, we have to assign each data point to the cluster that is closer than other cluster (centroid).\n",
    "\n",
    " At last compute the centroids for the clusters by taking the average of all data points of that cluster."
   ]
  },
  {
   "cell_type": "code",
   "execution_count": 22,
   "metadata": {
    "slideshow": {
     "slide_type": "subslide"
    }
   },
   "outputs": [],
   "source": [
    "k_range = range (1,24)\n",
    "SSE = []\n",
    "\n",
    "for k in k_range:\n",
    "    km = KMeans(n_clusters = k)\n",
    "    km.fit(bike_df[['hour','bikes_available']])\n",
    "    SSE.append(km.inertia_)"
   ]
  },
  {
   "cell_type": "code",
   "execution_count": 23,
   "metadata": {
    "slideshow": {
     "slide_type": "subslide"
    }
   },
   "outputs": [
    {
     "data": {
      "text/plain": [
       "[9.786744192109966,\n",
       " 6.0875004895349685,\n",
       " 3.687836884534559,\n",
       " 2.850207035495599,\n",
       " 2.3136587099552424,\n",
       " 1.9225798271850283,\n",
       " 1.5922821388327613,\n",
       " 1.2839664617953592,\n",
       " 1.1375520551433658,\n",
       " 1.0012647833905128,\n",
       " 0.9098603756558588,\n",
       " 0.7968080169330902,\n",
       " 0.7189796764174544,\n",
       " 0.6210446393434514,\n",
       " 0.5603761830651572,\n",
       " 0.49575132139872335,\n",
       " 0.45420080179171657,\n",
       " 0.4024601798011098,\n",
       " 0.37443529456404046,\n",
       " 0.3379921584162749,\n",
       " 0.3141882931107174,\n",
       " 0.28962276185687585,\n",
       " 0.2798982596467487]"
      ]
     },
     "execution_count": 23,
     "metadata": {},
     "output_type": "execute_result"
    }
   ],
   "source": [
    "# check SSE\n",
    "SSE"
   ]
  },
  {
   "cell_type": "markdown",
   "metadata": {},
   "source": [
    "When we plot the graph of ‘value of k’ on x-axis and ‘value of SSE ’ on y-axis, there is an elbow formation at the optimum value of ‘k’."
   ]
  },
  {
   "cell_type": "code",
   "execution_count": 24,
   "metadata": {
    "slideshow": {
     "slide_type": "subslide"
    }
   },
   "outputs": [
    {
     "data": {
      "text/plain": [
       "[<matplotlib.lines.Line2D at 0x1fea4754588>]"
      ]
     },
     "execution_count": 24,
     "metadata": {},
     "output_type": "execute_result"
    },
    {
     "data": {
      "image/png": "[encoded data removed]",
      "text/plain": [
       "<Figure size 432x288 with 1 Axes>"
      ]
     },
     "metadata": {
      "needs_background": "light"
     },
     "output_type": "display_data"
    }
   ],
   "source": [
    "plt.xlabel('K')\n",
    "plt.ylabel('Sum of Squared error')\n",
    "\n",
    "plt.plot(k_range,SSE, linestyle='--', marker='*', color='green')"
   ]
  },
  {
   "cell_type": "markdown",
   "metadata": {},
   "source": [
    "From the above graph we observe that there is an elbow formation at k = 5. Hence the optimum value of k is 5. Therefore we cluster the data set into 5 clusters."
   ]
  },
  {
   "cell_type": "code",
   "execution_count": null,
   "metadata": {},
   "outputs": [],
   "source": []
  }
 ],
 "metadata": {
  "celltoolbar": "Slideshow",
  "kernelspec": {
   "display_name": "PythonData",
   "language": "python",
   "name": "pythondata"
  },
  "language_info": {
   "codemirror_mode": {
    "name": "ipython",
    "version": 3
   },
   "file_extension": ".py",
   "mimetype": "text/x-python",
   "name": "python",
   "nbconvert_exporter": "python",
   "pygments_lexer": "ipython3",
   "version": "3.7.4"
  }
 },
 "nbformat": 4,
 "nbformat_minor": 4
}
